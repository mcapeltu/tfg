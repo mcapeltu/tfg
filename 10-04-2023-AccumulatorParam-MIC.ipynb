{
 "cells": [
  {
   "cell_type": "code",
   "execution_count": 1,
   "id": "dfe62dbd",
   "metadata": {},
   "outputs": [],
   "source": [
    "import numpy as np\n",
    "import random as rn\n",
    "import findspark\n",
    "import sys\n",
    "import time\n",
    "import numba\n",
    "from numba import cuda, float32, float64\n",
    "findspark.init(\"C:\\\\Users\\\\Software\\\\spark-3.3.1-bin-hadoop3\\\\bin\\\\..\")\n",
    "from pyspark import SparkContext\n",
    "from pyspark.sql import SparkSession\n",
    "from pyspark.accumulators import AccumulatorParam\n",
    "sc = SparkContext(\"local\",\"PSO Distribuido\")\n",
    "class ListParam(AccumulatorParam):\n",
    "    def zero(self, v):\n",
    "        return []\n",
    "    def addInPlace(self, variable, value):\n",
    "        variable.append(value)\n",
    "        return variable\n",
    "accu = sc.accumulator([], ListParam()) \n",
    "rdd = sc.parallelize([(0,1), (0,1), (0,2), (1,2), (1,10), (1,20), (3,18), (3,18), (3,18)]) \n",
    "spark = SparkSession(sc)\n",
    "hasattr(rdd, \"toDF\")\n",
    "df=rdd.toDF(['id','score'])"
   ]
  },
  {
   "cell_type": "code",
   "execution_count": 2,
   "id": "0a4e4bdd",
   "metadata": {},
   "outputs": [
    {
     "data": {
      "text/plain": [
       "DataFrame[id: bigint, score: bigint]"
      ]
     },
     "execution_count": 2,
     "metadata": {},
     "output_type": "execute_result"
    }
   ],
   "source": [
    "df.repartition(2)"
   ]
  },
  {
   "cell_type": "code",
   "execution_count": 3,
   "id": "bc8f8c67",
   "metadata": {},
   "outputs": [],
   "source": [
    "def worker(row):\n",
    "    global accu\n",
    "    accu.add(\"Moin\")"
   ]
  },
  {
   "cell_type": "code",
   "execution_count": 4,
   "id": "552bce61",
   "metadata": {},
   "outputs": [],
   "source": [
    "df.foreach(worker)"
   ]
  },
  {
   "cell_type": "code",
   "execution_count": 5,
   "id": "1ec833bb",
   "metadata": {},
   "outputs": [
    {
     "name": "stdout",
     "output_type": "stream",
     "text": [
      "[['Moin', 'Moin', 'Moin', 'Moin', 'Moin', 'Moin', 'Moin', 'Moin', 'Moin']]\n"
     ]
    }
   ],
   "source": [
    "print(accu)"
   ]
  },
  {
   "cell_type": "code",
   "execution_count": 6,
   "id": "e11545ab",
   "metadata": {},
   "outputs": [
    {
     "name": "stdout",
     "output_type": "stream",
     "text": [
      "[['Moin', 'Moin', 'Moin', 'Moin', 'Moin', 'Moin', 'Moin', 'Moin', 'Moin']]\n"
     ]
    }
   ],
   "source": [
    "print(accu.value)"
   ]
  },
  {
   "cell_type": "code",
   "execution_count": null,
   "id": "8abd7052",
   "metadata": {},
   "outputs": [],
   "source": []
  }
 ],
 "metadata": {
  "kernelspec": {
   "display_name": "Python 3 (ipykernel)",
   "language": "python",
   "name": "python3"
  },
  "language_info": {
   "codemirror_mode": {
    "name": "ipython",
    "version": 3
   },
   "file_extension": ".py",
   "mimetype": "text/x-python",
   "name": "python",
   "nbconvert_exporter": "python",
   "pygments_lexer": "ipython3",
   "version": "3.9.13"
  }
 },
 "nbformat": 4,
 "nbformat_minor": 5
}
