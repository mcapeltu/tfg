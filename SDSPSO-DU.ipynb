{
 "cells": [
  {
   "cell_type": "code",
   "execution_count": 1,
   "id": "facb8cc5",
   "metadata": {},
   "outputs": [],
   "source": [
    "import numpy as np\n",
    "import random as rn\n",
    "import findspark\n",
    "import sys\n",
    "findspark.init(\"C:\\\\Users\\\\Software\\\\spark-3.3.1-bin-hadoop3\\\\bin\\\\..\")\n",
    "#findspark.init(\"D:\\\\Users\\\\software\\\\spark-3.2.1-bin-hadoop3.2\\\\bin\\\\..\")"
   ]
  },
  {
   "cell_type": "code",
   "execution_count": 2,
   "id": "21013230",
   "metadata": {},
   "outputs": [],
   "source": [
    "from pyspark import SparkContext\n",
    "sc = SparkContext(\"local\",\"PSO Distribuido\")"
   ]
  },
  {
   "cell_type": "code",
   "execution_count": 3,
   "id": "886b41ed",
   "metadata": {},
   "outputs": [],
   "source": [
    "def MSE(y, pred):\n",
    "    n = len(y)\n",
    "    if n != len(pred):\n",
    "        print(\"error: datos y predicción de distintos tamaños\")\n",
    "        return -1\n",
    "\n",
    "    resultado = 0.0\n",
    "\n",
    "    for i in range(n):\n",
    "        resultado += (y[i] - pred[i])**2\n",
    "\n",
    "    resultado = resultado / n\n",
    "\n",
    "    return resultado"
   ]
  },
  {
   "cell_type": "code",
   "execution_count": 4,
   "id": "e1053814",
   "metadata": {},
   "outputs": [],
   "source": [
    "V_max= 5.0\n",
    "W= 1.0\n",
    "c_1 = 0.8\n",
    "c_2 = 0.2\n",
    "objetivo =[50,50,50]\n",
    "ind=0\n",
    "filas_x=[0,0,0]"
   ]
  },
  {
   "cell_type": "code",
   "execution_count": 5,
   "id": "aae8b850",
   "metadata": {},
   "outputs": [],
   "source": [
    "#Número dimensiones de los vectores\n",
    "n=3\n",
    "#Número de partículas\n",
    "m= 10\n",
    "#Número de iteraciones\n",
    "I = 1000000\n",
    "posiciones_=[]\n",
    "mejor_posiciones_locales_=[]\n",
    "velocidades_=[]\n",
    "particulas = np.array([posiciones_,velocidades_,mejor_posiciones_locales_])\n",
    "mejor_pos_global_=[]\n",
    "mejor_pos_global_arr= np.array([0 for j in range(n)])\n",
    "best_local_fitness_= []\n",
    "best_local_fitness_arr=np.array(best_local_fitness_)\n",
    "#maximum float\n",
    "max = sys.float_info.max\n",
    "best_global_fitness = max\n",
    "accum=sc.accumulator(best_global_fitness)\n",
    "mejor_pos_global= sc.broadcast(mejor_pos_global_arr)\n",
    "best_local_fitness= sc.broadcast(best_local_fitness_arr)"
   ]
  },
  {
   "cell_type": "code",
   "execution_count": 6,
   "id": "100bc4aa",
   "metadata": {},
   "outputs": [],
   "source": [
    "def InitParticles(part,N,M,bgf,blf):\n",
    "    #global best_global_fitness\n",
    "    for j in range(M):\n",
    "        posicion=[rn.uniform(-100,100) for j in range(N)]\n",
    "        posiciones_.append(posicion)\n",
    "        posiciones= np.array(posiciones_)\n",
    "        mejor_posiciones_locales_=posiciones_\n",
    "        mejor_posiciones_locales=np.array(mejor_posiciones_locales_)\n",
    "        velocidad=[rn.uniform(-100,100) for j in range(N)]\n",
    "        velocidades_.append(velocidad)\n",
    "        velocidades= np.array(velocidades_)\n",
    "        fit = MSE(posiciones[j],objetivo)\n",
    "        best_local_fitness_.append(fit)\n",
    "        blf= np.array(best_local_fitness_)\n",
    "        #print(\"bgf-> \",bgf)\n",
    "        if fit < bgf:\n",
    "            bgf = fit\n",
    "            accum= fit\n",
    "            mejor_pos_global = mejor_posiciones_locales[j][:]\n",
    "    part= np.array([posiciones,velocidades,mejor_posiciones_locales])\n",
    "    return blf,bgf,mejor_pos_global,part "
   ]
  },
  {
   "cell_type": "code",
   "execution_count": 7,
   "id": "72de37d6",
   "metadata": {},
   "outputs": [],
   "source": [
    "def fitnessEval(part,mpg,blf,bgf, ind):\n",
    "    filas=part[0:1,ind]\n",
    "    fit = MSE(filas[0],objetivo)\n",
    "    if fit< blf[ind]:\n",
    "        blf[ind] = fit\n",
    "        #mpl[ind] = part[0:1,ind]\n",
    "        part[2:,ind]=filas\n",
    "        if fit < bgf:\n",
    "            bgf = fit\n",
    "            mpg = filas[0]\n",
    "            accum= fit\n",
    "    return part,mpg,blf,bgf"
   ]
  },
  {
   "cell_type": "code",
   "execution_count": 8,
   "id": "58c17281",
   "metadata": {},
   "outputs": [],
   "source": [
    "#ind=sc.accumulator(0)\n",
    "def fitnessEval_x(part,mpg,blf,bgf):\n",
    "    global ind\n",
    "    filas=part[0:1]\n",
    "    fit = MSE(filas[0],objetivo)\n",
    "    if fit < blf[ind]:\n",
    "        blf[ind] = fit\n",
    "        #mpl[ind] = part[0:1,ind]\n",
    "      #  part[2:,ind]=filas\n",
    "        if fit < bgf:\n",
    "            bgf = fit\n",
    "            mpg = filas[0]\n",
    "            accum= fit\n",
    "    if ind<10:\n",
    "        ind+=1\n",
    "    return part,mpg,blf,bgf"
   ]
  },
  {
   "cell_type": "code",
   "execution_count": 9,
   "id": "552ceaed",
   "metadata": {},
   "outputs": [],
   "source": [
    "#def posEval(part,mpl,mpg,ind):\n",
    "def posEval(part,mpg,ind,N):\n",
    "    velocidades=part[1:2,ind][0]\n",
    "    mpl=part[2:,ind][0]\n",
    "    for k in range(N):\n",
    "        velocidades[k] = W*velocidades[k] + c_1*r_1*(mpl[k] - part[0:1,ind][0][k]) + c_2*r_2*(mpg[k] - part[0:1,ind][0][k])\n",
    "        if velocidades[k] > V_max:\n",
    "            velocidades[k] = V_max\n",
    "        elif velocidades[k] < -V_max:\n",
    "            velocidades[k] = -V_max  \n",
    "        part[0:1,ind][0][k] = part[0:1,ind][0][k] + velocidades[k]\n",
    "    #return part,velocidades\n",
    "    return part"
   ]
  },
  {
   "cell_type": "code",
   "execution_count": 10,
   "id": "c205f5de",
   "metadata": {},
   "outputs": [],
   "source": [
    "#def posEval(part,mpl,mpg,ind):\n",
    "def posEval_x(part,mpg,N):\n",
    "    global ind\n",
    "    velocidades=part[1:2][0]\n",
    "    mpl=part[2:][0]\n",
    "    r_1 = rn.random()\n",
    "    r_2 = rn.random()\n",
    "    for k in range(N):\n",
    "        velocidades[k] = W*velocidades[k] + c_1*r_1*(mpl[k] - part[0:1][0][k]) + c_2*r_2*(mpg[k] - part[0:1][0][k])\n",
    "        if velocidades[k] > V_max:\n",
    "            velocidades[k] = V_max\n",
    "        elif velocidades[k] < -V_max:\n",
    "            velocidades[k] = -V_max  \n",
    "        part[0:1][0][k] = part[0:1][0][k] + velocidades[k]\n",
    "    #return part,velocidades\n",
    "    return part"
   ]
  },
  {
   "cell_type": "code",
   "execution_count": 11,
   "id": "ac1afaf8",
   "metadata": {},
   "outputs": [],
   "source": [
    "best_local_fitness,best_global_fitness,mejor_pos_global,particulas=InitParticles(particulas,n,m,best_global_fitness,best_local_fitness)\n",
    "#print(\"particulas[0:1]-> \",particulas[0:1][0])\n",
    "#print(\"mejor velocidades-> \",particulas[1:2][0])\n",
    "#print(\"mejor posiciones locales-> \",particulas[2:][0])\n",
    "#print(\"mejor_pos_global-> \",mejor_pos_global)\n",
    "#print(\"best_global_fitness\",best_global_fitness)\n",
    "#print(\"best_local_fitness\",best_local_fitness)"
   ]
  },
  {
   "cell_type": "code",
   "execution_count": 12,
   "id": "2aec0507",
   "metadata": {
    "scrolled": false
   },
   "outputs": [
    {
     "name": "stdout",
     "output_type": "stream",
     "text": [
      "[array([[ 25.46682702,   8.17240875,  92.95503427],\n",
      "       [ -5.        ,  -5.        ,   5.        ],\n",
      "       [-60.32559188, -78.19920848,  68.46743241],\n",
      "       [ 55.29011806, -97.63640896,  16.84882744],\n",
      "       [ 30.77015235, -28.69167558, -23.65521824],\n",
      "       [-67.32324684,  -3.41275526, -91.33484801],\n",
      "       [ -5.0665134 ,  86.27918043,  14.4061583 ],\n",
      "       [-86.1222189 ,  70.75907539,   5.24842399],\n",
      "       [-89.82028098,  46.13480908, -68.61874288],\n",
      "       [-59.88275494,  66.25178384,  -5.87815177]]), array([[ 57.48957703, -25.06270034,  93.05232289],\n",
      "       [ -5.        ,   5.        ,  -5.        ],\n",
      "       [-87.01847725,  66.04905872,  39.89242353],\n",
      "       [-42.27709393, -76.09350982,  83.33164652],\n",
      "       [ 66.93475161,  -3.50277597,  34.55199305],\n",
      "       [-79.73750939, -20.77480443,  44.16243818],\n",
      "       [-81.86322871, -27.43999844,  -0.35325732],\n",
      "       [ 93.6242334 ,  58.99741971,  53.61545378],\n",
      "       [ 95.05677286, -44.15526678,   0.71902854],\n",
      "       [ 20.85212823, -17.53747189,  66.13630449]]), array([[ 35.46682702,  18.17240875,  92.95503427],\n",
      "       [  5.        ,   5.        ,   5.        ],\n",
      "       [-60.32559188, -78.19920848,  68.46743241],\n",
      "       [ 55.29011806, -97.63640896,  16.84882744],\n",
      "       [ 30.77015235, -28.69167558, -23.65521824],\n",
      "       [-67.32324684,  -3.41275526, -91.33484801],\n",
      "       [ -5.0665134 ,  86.27918043,  14.4061583 ],\n",
      "       [-86.1222189 ,  70.75907539,   5.24842399],\n",
      "       [-89.82028098,  46.13480908, -68.61874288],\n",
      "       [-59.88275494,  66.25178384,  -5.87815177]])]\n",
      "particulas->  [[ 30.46682702  13.17240875  87.95503427]\n",
      " [ 53.57988995  36.19621341  47.25928099]\n",
      " [-60.32559188 -78.19920848  68.46743241]\n",
      " [ 55.29011806 -97.63640896  16.84882744]\n",
      " [ 30.77015235 -28.69167558 -23.65521824]\n",
      " [-67.32324684  -3.41275526 -91.33484801]\n",
      " [ -5.0665134   86.27918043  14.4061583 ]\n",
      " [-86.1222189   70.75907539   5.24842399]\n",
      " [-89.82028098  46.13480908 -68.61874288]\n",
      " [-59.88275494  66.25178384  -5.87815177]]\n",
      "mejor_pos_global->  [53.57988995 36.19621341 47.25928099]\n"
     ]
    }
   ],
   "source": [
    "rdd_master= sc.parallelize(particulas)\n",
    "for i in range(I):\n",
    "    resultado = rdd_master.map(lambda x:fitnessEval_x(x,mejor_pos_global,best_local_fitness,best_global_fitness))\n",
    "    resultado_2 = resultado.map(lambda x:posEval_x(x[0],mejor_pos_global,n))\n",
    "    resultado = resultado_2\n",
    "resultado = resultado.collect()\n",
    "print(resultado)\n",
    "print(\"particulas-> \",particulas[0:1][0])\n",
    "print(\"mejor_pos_global-> \",mejor_pos_global)"
   ]
  }
 ],
 "metadata": {
  "kernelspec": {
   "display_name": "Python 3 (ipykernel)",
   "language": "python",
   "name": "python3"
  },
  "language_info": {
   "codemirror_mode": {
    "name": "ipython",
    "version": 3
   },
   "file_extension": ".py",
   "mimetype": "text/x-python",
   "name": "python",
   "nbconvert_exporter": "python",
   "pygments_lexer": "ipython3",
   "version": "3.9.13"
  }
 },
 "nbformat": 4,
 "nbformat_minor": 5
}
