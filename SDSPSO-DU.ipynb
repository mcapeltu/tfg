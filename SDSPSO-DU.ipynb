{
 "cells": [
  {
   "cell_type": "code",
   "execution_count": 1,
   "id": "facb8cc5",
   "metadata": {},
   "outputs": [],
   "source": [
    "import numpy as np\n",
    "import random as rn\n",
    "import findspark\n",
    "import sys\n",
    "findspark.init(\"C:\\\\Users\\\\Software\\\\spark-3.3.1-bin-hadoop3\\\\bin\\\\..\")\n",
    "#findspark.init(\"D:\\\\Users\\\\software\\\\spark-3.2.1-bin-hadoop3.2\\\\bin\\\\..\")"
   ]
  },
  {
   "cell_type": "code",
   "execution_count": 2,
   "id": "21013230",
   "metadata": {},
   "outputs": [],
   "source": [
    "from pyspark import SparkContext\n",
    "sc = SparkContext(\"local\",\"PSO Distribuido\")"
   ]
  },
  {
   "cell_type": "code",
   "execution_count": 3,
   "id": "886b41ed",
   "metadata": {},
   "outputs": [],
   "source": [
    "def MSE(y, pred):\n",
    "    n = len(y)\n",
    "    if n != len(pred):\n",
    "        print(\"error: datos y predicción de distintos tamaños\")\n",
    "        return -1\n",
    "\n",
    "    resultado = 0.0\n",
    "\n",
    "    for i in range(n):\n",
    "        resultado += (y[i] - pred[i])**2\n",
    "\n",
    "    resultado = resultado / n\n",
    "\n",
    "    return resultado"
   ]
  },
  {
   "cell_type": "code",
   "execution_count": 4,
   "id": "e1053814",
   "metadata": {},
   "outputs": [],
   "source": [
    "V_max= 5.0\n",
    "W= 1.0\n",
    "c_1 = 0.8\n",
    "c_2 = 0.2\n",
    "objetivo =[50,50,50]\n",
    "ind=0\n",
    "filas_x=[0,0,0]"
   ]
  },
  {
   "cell_type": "code",
   "execution_count": 5,
   "id": "aae8b850",
   "metadata": {},
   "outputs": [],
   "source": [
    "#Número dimensiones de los vectores\n",
    "n=3\n",
    "#Número de partículas\n",
    "m= 10\n",
    "#Número de iteraciones\n",
    "I = 1000000\n",
    "posiciones_=[]\n",
    "mejor_posiciones_locales_=[]\n",
    "velocidades_=[]\n",
    "particulas = np.array([posiciones_,velocidades_,mejor_posiciones_locales_])\n",
    "mejor_pos_global_=[]\n",
    "mejor_pos_global_arr= np.array([0 for j in range(n)])\n",
    "best_local_fitness_= []\n",
    "best_local_fitness_arr=np.array(best_local_fitness_)\n",
    "#maximum float\n",
    "max = sys.float_info.max\n",
    "best_global_fitness = max\n",
    "accum=sc.accumulator(best_global_fitness)\n",
    "mejor_pos_global= sc.broadcast(mejor_pos_global_arr)\n",
    "best_local_fitness= sc.broadcast(best_local_fitness_arr)"
   ]
  },
  {
   "cell_type": "code",
   "execution_count": 6,
   "id": "100bc4aa",
   "metadata": {},
   "outputs": [],
   "source": [
    "def InitParticles(part,N,M,bgf,blf):\n",
    "    #global best_global_fitness\n",
    "    for j in range(M):\n",
    "        posicion=[rn.uniform(-100,100) for j in range(N)]\n",
    "        posiciones_.append(posicion)\n",
    "        posiciones= np.array(posiciones_)\n",
    "        mejor_posiciones_locales_=posiciones_\n",
    "        mejor_posiciones_locales=np.array(mejor_posiciones_locales_)\n",
    "        velocidad=[rn.uniform(-100,100) for j in range(N)]\n",
    "        velocidades_.append(velocidad)\n",
    "        velocidades= np.array(velocidades_)\n",
    "        fit = MSE(posiciones[j],objetivo)\n",
    "        best_local_fitness_.append(fit)\n",
    "        blf= np.array(best_local_fitness_)\n",
    "        #print(\"bgf-> \",bgf)\n",
    "        if fit < bgf:\n",
    "            bgf = fit\n",
    "            accum= fit\n",
    "            mejor_pos_global = mejor_posiciones_locales[j][:]\n",
    "    part= np.array([posiciones,velocidades,mejor_posiciones_locales])\n",
    "    return blf,bgf,mejor_pos_global,part "
   ]
  },
  {
   "cell_type": "code",
   "execution_count": 7,
   "id": "72de37d6",
   "metadata": {},
   "outputs": [],
   "source": [
    "def fitnessEval(part,mpg,blf,bgf, ind):\n",
    "    filas=part[0:1,ind]\n",
    "    fit = MSE(filas[0],objetivo)\n",
    "    if fit< blf[ind]:\n",
    "        blf[ind] = fit\n",
    "        #mpl[ind] = part[0:1,ind]\n",
    "        part[2:,ind]=filas\n",
    "        if fit < bgf:\n",
    "            bgf = fit\n",
    "            mpg = filas[0]\n",
    "            accum= fit\n",
    "    return part,mpg,blf,bgf"
   ]
  },
  {
   "cell_type": "code",
   "execution_count": 8,
   "id": "58c17281",
   "metadata": {},
   "outputs": [],
   "source": [
    "#ind=sc.accumulator(0)\n",
    "def fitnessEval_x(part,mpg,blf,bgf):\n",
    "    global ind\n",
    "    filas=part[0:1]\n",
    "    fit = MSE(filas[0],objetivo)\n",
    "    if fit < blf[ind]:\n",
    "        blf[ind] = fit\n",
    "        #mpl[ind] = part[0:1,ind]\n",
    "      #  part[2:,ind]=filas\n",
    "        if fit < bgf:\n",
    "            bgf = fit\n",
    "            mpg = filas[0]\n",
    "            accum= fit\n",
    "    if ind<10:\n",
    "        ind+=1\n",
    "    return part,mpg,blf,bgf"
   ]
  },
  {
   "cell_type": "code",
   "execution_count": 9,
   "id": "552ceaed",
   "metadata": {},
   "outputs": [],
   "source": [
    "#def posEval(part,mpl,mpg,ind):\n",
    "def posEval(part,mpg,ind,N):\n",
    "    velocidades=part[1:2,ind][0]\n",
    "    mpl=part[2:,ind][0]\n",
    "    for k in range(N):\n",
    "        velocidades[k] = W*velocidades[k] + c_1*r_1*(mpl[k] - part[0:1,ind][0][k]) + c_2*r_2*(mpg[k] - part[0:1,ind][0][k])\n",
    "        if velocidades[k] > V_max:\n",
    "            velocidades[k] = V_max\n",
    "        elif velocidades[k] < -V_max:\n",
    "            velocidades[k] = -V_max  \n",
    "        part[0:1,ind][0][k] = part[0:1,ind][0][k] + velocidades[k]\n",
    "    #return part,velocidades\n",
    "    return part"
   ]
  },
  {
   "cell_type": "code",
   "execution_count": 10,
   "id": "ac1afaf8",
   "metadata": {},
   "outputs": [],
   "source": [
    "best_local_fitness,best_global_fitness,mejor_pos_global,particulas=InitParticles(particulas,n,m,best_global_fitness,best_local_fitness)\n",
    "#print(\"particulas[0:1]-> \",particulas[0:1][0])\n",
    "#print(\"mejor velocidades-> \",particulas[1:2][0])\n",
    "#print(\"mejor posiciones locales-> \",particulas[2:][0])\n",
    "#print(\"mejor_pos_global-> \",mejor_pos_global)\n",
    "#print(\"best_global_fitness\",best_global_fitness)\n",
    "#print(\"best_local_fitness\",best_local_fitness)"
   ]
  },
  {
   "cell_type": "code",
   "execution_count": 11,
   "id": "2aec0507",
   "metadata": {
    "scrolled": false
   },
   "outputs": [
    {
     "name": "stdout",
     "output_type": "stream",
     "text": [
      "particulas->  [[ 8.89134221e+01  2.65268987e+00  5.30333516e+01]\n",
      " [ 8.37588128e+01  9.38483237e+01  2.57141091e+01]\n",
      " [ 7.52527751e+01 -8.05921443e+01 -5.70871287e+01]\n",
      " [ 2.58310661e+01 -3.02668293e+01 -5.28738600e+01]\n",
      " [ 6.24329315e+00  8.87617962e+01 -9.02369036e+01]\n",
      " [ 6.77800764e+01 -6.89426601e+01  7.89055292e+01]\n",
      " [-5.59252346e+01  7.37952368e+01 -8.50294586e+01]\n",
      " [-9.50494274e+01  7.96472737e+01  6.59987925e+01]\n",
      " [-1.18352714e+01 -6.91625940e+01  1.21673286e-02]\n",
      " [-1.33165297e+01  7.09729968e+01 -8.60582173e+01]]\n",
      "mejor_pos_global->  [83.75881275 93.84832368 25.71410907]\n"
     ]
    }
   ],
   "source": [
    "rdd_master= sc.parallelize(particulas)\n",
    "resultado = rdd_master.map(lambda x:fitnessEval_x(x,mejor_pos_global,best_local_fitness,best_global_fitness)).collect()\n",
    "print(\"particulas-> \",particulas[0:1][0])\n",
    "print(\"mejor_pos_global-> \",mejor_pos_global)"
   ]
  },
  {
   "cell_type": "code",
   "execution_count": null,
   "id": "b6fd505f",
   "metadata": {},
   "outputs": [],
   "source": []
  }
 ],
 "metadata": {
  "kernelspec": {
   "display_name": "Python 3 (ipykernel)",
   "language": "python",
   "name": "python3"
  },
  "language_info": {
   "codemirror_mode": {
    "name": "ipython",
    "version": 3
   },
   "file_extension": ".py",
   "mimetype": "text/x-python",
   "name": "python",
   "nbconvert_exporter": "python",
   "pygments_lexer": "ipython3",
   "version": "3.9.13"
  }
 },
 "nbformat": 4,
 "nbformat_minor": 5
}
