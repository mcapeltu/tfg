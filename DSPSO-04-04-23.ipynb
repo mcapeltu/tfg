{
 "cells": [
  {
   "cell_type": "code",
   "execution_count": 1,
   "id": "9b12de63",
   "metadata": {},
   "outputs": [],
   "source": [
    "import numpy as np\n",
    "import random as rn\n",
    "import findspark\n",
    "import sys\n",
    "import time\n",
    "import numba\n",
    "from numba import cuda, float32, float64\n",
    "findspark.init(\"/opt/spark\")"
   ]
  },
  {
   "cell_type": "code",
   "execution_count": 2,
   "id": "3efab478",
   "metadata": {},
   "outputs": [],
   "source": [
    "from pyspark import SparkContext\n",
    "sc = SparkContext(\"local\",\"PSO Distribuido\")"
   ]
  },
  {
   "cell_type": "code",
   "execution_count": 3,
   "id": "b52cfaea",
   "metadata": {},
   "outputs": [],
   "source": [
    "def MSE(y, pred):\n",
    "    n = len(y)\n",
    "    if n != len(pred.value):\n",
    "        print(\"error: datos y predicción de distintos tamaños\")\n",
    "        return -1\n",
    "\n",
    "    resultado = 0.0\n",
    "\n",
    "    for i in range(n):\n",
    "        resultado += (y[i] - pred.value[i])**2\n",
    "\n",
    "    resultado = resultado / n\n",
    "\n",
    "    return resultado"
   ]
  },
  {
   "cell_type": "code",
   "execution_count": 4,
   "id": "31bbe229",
   "metadata": {},
   "outputs": [],
   "source": [
    "V_max= 10.0\n",
    "W= 1.0\n",
    "c_1 = 0.8\n",
    "c_2 = 0.2\n",
    "objetivo_ =[50,50,50]\n",
    "objetivo =sc.broadcast(objetivo_)\n",
    "ind=0\n",
    "filas_x=[0,0,0]"
   ]
  },
  {
   "cell_type": "code",
   "execution_count": 5,
   "id": "7ceeafb4",
   "metadata": {},
   "outputs": [
    {
     "name": "stdout",
     "output_type": "stream",
     "text": [
      "[50, 50, 50]\n"
     ]
    }
   ],
   "source": [
    "print(objetivo.value)"
   ]
  },
  {
   "cell_type": "code",
   "execution_count": 6,
   "id": "9e42af72",
   "metadata": {},
   "outputs": [],
   "source": [
    "#Número dimensiones de los vectores\n",
    "n=3\n",
    "#Número de partículas\n",
    "m= 10\n",
    "#Número de iteraciones\n",
    "I = 100\n",
    "posiciones_=[]\n",
    "mejor_posiciones_locales_=[]\n",
    "velocidades_=[]\n",
    "particulas = np.array([posiciones_,velocidades_,mejor_posiciones_locales_])\n",
    "mejor_pos_global_=[]\n",
    "mejor_pos_global_arr= np.array([0 for j in range(n)])\n",
    "best_local_fitness_= []\n",
    "best_local_fitness_arr=np.array(best_local_fitness_)\n",
    "#maximum float\n",
    "max = sys.float_info.max\n",
    "best_global_fitness = max\n",
    "accum=sc.accumulator(0)\n",
    "#accum=sc.accumulator(0.0)\n",
    "#mejor_pos_global= sc.broadcast(mejor_pos_global_arr)\n",
    "mejor_pos_global= mejor_pos_global_arr\n",
    "best_local_fitness= sc.broadcast(best_local_fitness_arr)"
   ]
  },
  {
   "cell_type": "code",
   "execution_count": 7,
   "id": "3bdb5c4d",
   "metadata": {},
   "outputs": [],
   "source": [
    "def InitParticles(part,N,M,bgf,blf):\n",
    "    #global best_global_fitness\n",
    "    parts_ =[]\n",
    "    for j in range(M):\n",
    "        posicion=[rn.uniform(-100,100) for j in range(N)]\n",
    "        velocidad=[rn.uniform(-100,100) for j in range(N)]\n",
    "        fit = MSE(posicion,objetivo)\n",
    "        #posición, velocidad, mejor posición local, mejor fitness local\n",
    "        part_ = posicion + velocidad + posicion + [fit]\n",
    "        parts_.append(part_)\n",
    "\n",
    "        best_local_fitness_.append(fit)\n",
    "        blf= np.array(best_local_fitness_)\n",
    "        #print(\"bgf-> \",bgf)\n",
    "        if fit < bgf:\n",
    "            bgf = fit\n",
    "            accum= fit\n",
    "            mejor_pos_global = posicion\n",
    "    parts = np.array(parts_)\n",
    "    return blf,bgf,mejor_pos_global,parts "
   ]
  },
  {
   "cell_type": "code",
   "execution_count": 8,
   "id": "c304bd16",
   "metadata": {},
   "outputs": [],
   "source": [
    "def fitnessEval(part,N):\n",
    "    #global mejor_pos_global\n",
    "    #global best_global_fitness\n",
    "    global accum\n",
    "    #global best_local_fitness\n",
    "    best_fit_local = part[3*N:]\n",
    "    filas=part[0:N]\n",
    "    fit = MSE(filas,objetivo)\n",
    "    if fit < best_fit_local:\n",
    "        part[3*N:] = fit\n",
    "        #mpl[ind] = part[0:1,ind]\n",
    "        for k in range(N):\n",
    "            part[2*N+k]=filas[k]\n",
    "        #if fit < best_global_fitness:\n",
    "            #accum += (fit-best_global_fitness)\n",
    "            #best_global_fitness = fit\n",
    "            #mejor_pos_global := filas\n",
    "            #accum := fit\n",
    "    #if ind<10:\n",
    "        #ind+=1\n",
    "    #return part,mpg,blf,bgf\n",
    "    return part "
   ]
  },
  {
   "cell_type": "code",
   "execution_count": 9,
   "id": "40f4e210",
   "metadata": {},
   "outputs": [],
   "source": [
    "def posEval(part,mpg,N):\n",
    "#def posEval_x(part,N):\n",
    "    global ind\n",
    "    velocidades=part[N:2*N]\n",
    "    mpl=part[2*N:]\n",
    "    r_1 = rn.random()\n",
    "    r_2 = rn.random()\n",
    "    for k in range(N):\n",
    "        velocidades[k] = W*velocidades[k] + c_1*r_1*(mpl[k] - part[k]) + c_2*r_2*(mpg[k] - part[k])\n",
    "        if velocidades[k] > V_max:\n",
    "            velocidades[k] = V_max\n",
    "        elif velocidades[k] < -V_max:\n",
    "            velocidades[k] = -V_max  \n",
    "        part[k] = part[k] + velocidades[k]\n",
    "        part[N+k] = velocidades[k]\n",
    "    #return part,velocidades\n",
    "    return part"
   ]
  },
  {
   "cell_type": "code",
   "execution_count": 10,
   "id": "88ee4bd7",
   "metadata": {},
   "outputs": [],
   "source": [
    "best_local_fitness,best_global_fitness,mejor_pos_global,particulas=InitParticles(particulas,n,m,best_global_fitness,best_local_fitness)"
   ]
  },
  {
   "cell_type": "code",
   "execution_count": 11,
   "id": "e417f033",
   "metadata": {},
   "outputs": [
    {
     "name": "stdout",
     "output_type": "stream",
     "text": [
      "Tiempo de ejecucion(s):  20.40211033821106\n",
      "Tiempo de ejecucion fitness(s):  0.05463743209838867\n",
      "Tiempo de ejecucion poseval(s):  0.00669097900390625\n",
      "Tiempo de ejecucion global fitness(s):  0.005464076995849609\n",
      "Tiempo de ejecucion collect(s):  19.936068773269653\n",
      "mejor_pos_global->  [50.4752403  50.18720565 49.68602963]\n",
      "mejor fitness global->  [0.11982556] 0.11982556251918645\n",
      "accum: 0\n"
     ]
    }
   ],
   "source": [
    "rdd_master= sc.parallelize(particulas)\n",
    "tiempo_fitness = 0.0\n",
    "tiempo_poseval = 0.0\n",
    "tiempo_global = 0.0\n",
    "tiempo_collect = 0.0\n",
    "\n",
    "#print(\"rdd_master antes:\", rdd_master.collect())\n",
    "#print(\"antes:\",mejor_pos_global)\n",
    "\n",
    "start = time.time()\n",
    "\n",
    "for i in range(I):\n",
    "    start_fitness = time.time()\n",
    "    rdd_fitness = rdd_master.map(lambda x:fitnessEval(x,n))\n",
    "    end_fitness = time.time()\n",
    "    \n",
    "    tiempo_fitness += end_fitness - start_fitness\n",
    "    \n",
    "    start_collect = time.time()\n",
    "    rdd_eval = rdd_fitness.collect()\n",
    "    end_collect = time.time()\n",
    "    \n",
    "    tiempo_collect += end_collect - start_collect\n",
    "    \n",
    "    start_global = time.time()\n",
    "    for j in range(m):\n",
    "        blf = rdd_eval[j][3*n:]\n",
    "        if blf < best_global_fitness:\n",
    "            best_global_fitness = blf\n",
    "            mejor_pos_global = rdd_eval[j][2*n:3*n]\n",
    "    end_global = time.time()\n",
    "    \n",
    "    tiempo_global += end_global - start_global\n",
    "    \n",
    "    \n",
    "    start_poseval = time.time()\n",
    "    resultado = rdd_fitness.map(lambda x:posEval(x,mejor_pos_global,n))\n",
    "    end_poseval = time.time()\n",
    "    \n",
    "    tiempo_poseval += end_poseval - start_poseval\n",
    "    \n",
    "    start_collect = time.time()\n",
    "    resultado = resultado.collect()\n",
    "    end_collect = time.time()\n",
    "    \n",
    "    tiempo_collect += end_collect - start_collect\n",
    "    \n",
    "    #for j in range(m):\n",
    "    #    particulas[j] = resultado[j][:]\n",
    "        \n",
    "    rdd_master= sc.parallelize(resultado)\n",
    "    \n",
    "end = time.time()  \n",
    "\n",
    "#print(\"despues:\",mejor_pos_global)\n",
    "#print(\"rdd_master despues:\", rdd_master.collect())\n",
    "\n",
    "tiempo = end - start\n",
    "resultado = rdd_master.collect()\n",
    "print(\"Tiempo de ejecucion(s): \", tiempo)\n",
    "print(\"Tiempo de ejecucion fitness(s): \", tiempo_fitness)\n",
    "print(\"Tiempo de ejecucion poseval(s): \", tiempo_poseval)\n",
    "print(\"Tiempo de ejecucion global fitness(s): \", tiempo_global)\n",
    "print(\"Tiempo de ejecucion collect(s): \", tiempo_collect)\n",
    "print(\"mejor_pos_global-> \",mejor_pos_global)\n",
    "print(\"mejor fitness global-> \", best_global_fitness, MSE(mejor_pos_global,objetivo))\n",
    "print(\"accum:\", accum.value)"
   ]
  },
  {
   "cell_type": "code",
   "execution_count": null,
   "id": "78817750",
   "metadata": {},
   "outputs": [],
   "source": []
  },
  {
   "cell_type": "code",
   "execution_count": null,
   "id": "cee0c5a5",
   "metadata": {},
   "outputs": [],
   "source": []
  }
 ],
 "metadata": {
  "kernelspec": {
   "display_name": "Python 3",
   "language": "python",
   "name": "python3"
  },
  "language_info": {
   "codemirror_mode": {
    "name": "ipython",
    "version": 3
   },
   "file_extension": ".py",
   "mimetype": "text/x-python",
   "name": "python",
   "nbconvert_exporter": "python",
   "pygments_lexer": "ipython3",
   "version": "3.6.8"
  }
 },
 "nbformat": 4,
 "nbformat_minor": 5
}
