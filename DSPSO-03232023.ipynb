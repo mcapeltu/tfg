{
 "cells": [
  {
   "cell_type": "code",
   "execution_count": 1,
   "id": "b6cc6365",
   "metadata": {},
   "outputs": [],
   "source": [
    "import numpy as np\n",
    "import random as rn\n",
    "import findspark\n",
    "import sys\n",
    "import time\n",
    "import numba\n",
    "from numba import cuda, float32, float64\n",
    "#findspark.init(\"/opt/spark\")\n",
    "findspark.init(\"C:\\\\Users\\\\Software\\\\spark-3.3.1-bin-hadoop3\\\\bin\\\\..\")\n",
    "from pyspark import SparkContext\n",
    "sc = SparkContext(\"local\",\"PSO Distribuido\")"
   ]
  },
  {
   "cell_type": "code",
   "execution_count": 2,
   "id": "c9470c90",
   "metadata": {},
   "outputs": [],
   "source": [
    "def MSE(y, pred):\n",
    "    n = len(y)\n",
    "    if n != len(pred):\n",
    "        print(\"error: datos y predicción de distintos tamaños\")\n",
    "        return -1\n",
    "\n",
    "    resultado = 0.0\n",
    "\n",
    "    for i in range(n):\n",
    "        resultado += (y[i] - pred[i])**2\n",
    "\n",
    "    resultado = resultado / n\n",
    "\n",
    "    return resultado"
   ]
  },
  {
   "cell_type": "code",
   "execution_count": 3,
   "id": "70b52676",
   "metadata": {},
   "outputs": [],
   "source": [
    "#PARÁMETROS del problema\n",
    "V_max= 5.0\n",
    "W= 1.0\n",
    "c_1 = 0.8\n",
    "c_2 = 0.2\n",
    "objetivo =[50,50,50]\n",
    "ind=0\n",
    "filas_x=[0,0,0]\n",
    "#Número dimensiones de los vectores\n",
    "n=3\n",
    "#Número de partículas\n",
    "m= 10\n",
    "#Número de iteraciones\n",
    "I = 100"
   ]
  },
  {
   "cell_type": "code",
   "execution_count": 4,
   "id": "24dde78c",
   "metadata": {},
   "outputs": [],
   "source": [
    "#Estructuas de datos\n",
    "posiciones_=[]\n",
    "mejor_posiciones_locales_=[]\n",
    "velocidades_=[]\n",
    "particulas = np.array([posiciones_,velocidades_,mejor_posiciones_locales_])\n",
    "mejor_pos_global_=[]\n",
    "mejor_pos_global_arr= np.array([0 for j in range(n)])\n",
    "best_local_fitness_= []\n",
    "best_local_fitness_arr=np.array(best_local_fitness_)\n",
    "#maximum float\n",
    "max = sys.float_info.max\n",
    "best_global_fitness = max\n",
    "accum= sc.accumulator(0)\n",
    "mejor_pos_global= sc.broadcast(mejor_pos_global_arr)\n",
    "best_local_fitness= sc.broadcast(best_local_fitness_arr)"
   ]
  },
  {
   "cell_type": "code",
   "execution_count": 5,
   "id": "abf57043",
   "metadata": {},
   "outputs": [],
   "source": [
    "def InitParticles(part,N,M,bgf,blf):\n",
    "    #global best_global_fitness\n",
    "    global accum\n",
    "    parts_ =[]\n",
    "    for j in range(M):\n",
    "        posicion=[rn.uniform(-100,100) for j in range(N)]\n",
    "        velocidad=[rn.uniform(-5,5) for j in range(N)]\n",
    "        part_ = posicion + velocidad + posicion\n",
    "        parts_.append(part_) \n",
    "        fit = MSE(posicion,objetivo)\n",
    "        best_local_fitness_.append(fit)\n",
    "        blf= np.array(best_local_fitness_)\n",
    "        #print(\"bgf-> \",bgf)\n",
    "        if fit < bgf:\n",
    "            bgf = fit\n",
    "            accum= fit\n",
    "            mejor_pos_global = posicion\n",
    "    parts = np.array(parts_)\n",
    "    return blf,bgf,mejor_pos_global,parts"
   ]
  },
  {
   "cell_type": "code",
   "execution_count": 6,
   "id": "0a7bff82",
   "metadata": {},
   "outputs": [],
   "source": [
    "def fitnessEval(part,mpg,blf,bgf,N):\n",
    "    global ind\n",
    "    global accum\n",
    "    filas=part[ind][0:N]\n",
    "    fit = MSE(filas,objetivo)\n",
    "    if fit < blf[ind]:\n",
    "        blf[ind] = fit\n",
    "        #mpl[ind] = part[0:1,ind]\n",
    "        for k in range(N):\n",
    "            part[2*N+k]=filas[k]\n",
    "        if fit < bgf:\n",
    "            bgf = fit\n",
    "            mpg = filas\n",
    "    accum= fit\n",
    "    if ind<10:\n",
    "        ind+=1\n",
    "    #return part,mpg,blf,bgf\n",
    "    return part"
   ]
  },
  {
   "cell_type": "code",
   "execution_count": 7,
   "id": "1606e7ff",
   "metadata": {},
   "outputs": [
    {
     "name": "stdout",
     "output_type": "stream",
     "text": [
      "particulas: [[ 85.28886114 -83.25785796  60.7958735   -1.9076368   -1.36911552\n",
      "   -4.13175826  85.28886114 -83.25785796  60.7958735 ]\n",
      " [-57.88830491 -85.98225339 -42.78158185  -1.17091112  -3.45818144\n",
      "    2.59143661 -57.88830491 -85.98225339 -42.78158185]\n",
      " [-63.04262696  67.54275851  -8.19877577   3.43954932  -2.87586602\n",
      "    2.01181374 -63.04262696  67.54275851  -8.19877577]\n",
      " [-68.33946396 -57.49952923 -43.72990859   1.44102444   0.82095558\n",
      "    4.20352911 -68.33946396 -57.49952923 -43.72990859]\n",
      " [-40.23230329  39.86334926  68.09114728   0.49244197  -2.131253\n",
      "   -1.77072022 -40.23230329  39.86334926  68.09114728]\n",
      " [ 51.44177202  12.36241928 -28.29288027  -4.56276305  -2.44761163\n",
      "    3.33149894  51.44177202  12.36241928 -28.29288027]\n",
      " [ 99.0066676   51.97612784 -35.17358442   2.26029091  -3.9160282\n",
      "    2.67508121  99.0066676   51.97612784 -35.17358442]\n",
      " [ 93.38910771  75.76680155  15.32489003  -3.6842113   -3.35867325\n",
      "    1.64924542  93.38910771  75.76680155  15.32489003]\n",
      " [ 78.97191219  96.95645867  70.99615774   3.2597634   -3.97982574\n",
      "    0.82598349  78.97191219  96.95645867  70.99615774]\n",
      " [-52.42755139 -34.50160069  -2.74128563  -0.61889989   4.8011521\n",
      "    3.94211866 -52.42755139 -34.50160069  -2.74128563]]\n",
      "best local fitness: [ 6373.17043798 12913.16050127  5491.16046264 11448.55775955\n",
      "  2857.30328494  2516.14709649  3220.03267765  1249.6353272\n",
      "  1161.70644881  6804.52233753]\n",
      "best global fitness: 1161.7064488100955\n",
      "best global fitness: 1161.7064488100955\n"
     ]
    }
   ],
   "source": [
    "best_local_fitness,best_global_fitness,mejor_pos_global,particulas=InitParticles(particulas,n,m,best_global_fitness,best_local_fitness)\n",
    "print(\"particulas:\", particulas)\n",
    "print(\"best local fitness:\",best_local_fitness)\n",
    "print(\"best global fitness:\",best_global_fitness)\n",
    "rdd= sc.parallelize(particulas)\n",
    "rdd.foreach(lambda x:fitnessEval(particulas,mejor_pos_global,best_local_fitness,best_global_fitness,n))\n",
    "print(\"best global fitness:\",accum)"
   ]
  },
  {
   "cell_type": "code",
   "execution_count": null,
   "id": "28798d73",
   "metadata": {},
   "outputs": [],
   "source": []
  }
 ],
 "metadata": {
  "kernelspec": {
   "display_name": "Python 3 (ipykernel)",
   "language": "python",
   "name": "python3"
  },
  "language_info": {
   "codemirror_mode": {
    "name": "ipython",
    "version": 3
   },
   "file_extension": ".py",
   "mimetype": "text/x-python",
   "name": "python",
   "nbconvert_exporter": "python",
   "pygments_lexer": "ipython3",
   "version": "3.9.13"
  }
 },
 "nbformat": 4,
 "nbformat_minor": 5
}
