{
 "cells": [
  {
   "cell_type": "code",
   "execution_count": null,
   "id": "2cbce5c3",
   "metadata": {},
   "outputs": [],
   "source": [
    "import numpy as np\n",
    "import random as rn\n",
    "import findspark\n",
    "import sys\n",
    "import time\n",
    "import numba\n",
    "from numba import cuda, float32, float64\n",
    "findspark.init(\"/opt/spark\")"
   ]
  },
  {
   "cell_type": "code",
   "execution_count": null,
   "id": "77f5dd2a",
   "metadata": {},
   "outputs": [],
   "source": [
    "from pyspark import SparkContext\n",
    "sc = SparkContext(\"local\",\"PSO Distribuido\")"
   ]
  },
  {
   "cell_type": "code",
   "execution_count": null,
   "id": "dca84e9b",
   "metadata": {},
   "outputs": [],
   "source": [
    "def MSE(y, pred):\n",
    "    n = len(y)\n",
    "    if n != len(pred):\n",
    "        print(\"error: datos y predicción de distintos tamaños\")\n",
    "        return -1\n",
    "\n",
    "    resultado = 0.0\n",
    "\n",
    "    for i in range(n):\n",
    "        resultado += (y[i] - pred[i])**2\n",
    "\n",
    "    resultado = resultado / n\n",
    "\n",
    "    return resultado"
   ]
  },
  {
   "cell_type": "code",
   "execution_count": null,
   "id": "fbe56407",
   "metadata": {},
   "outputs": [],
   "source": [
    "V_max= 10.0\n",
    "W= 1.0\n",
    "c_1 = 0.8\n",
    "c_2 = 0.2\n",
    "objetivo =[50,50,50]\n",
    "ind=0\n",
    "filas_x=[0,0,0]"
   ]
  },
  {
   "cell_type": "code",
   "execution_count": null,
   "id": "36e8c1cf",
   "metadata": {},
   "outputs": [],
   "source": [
    "#Número dimensiones de los vectores\n",
    "n=3\n",
    "#Número de partículas\n",
    "m= 10\n",
    "#Número de iteraciones\n",
    "I = 100\n",
    "posiciones_=[]\n",
    "mejor_posiciones_locales_=[]\n",
    "velocidades_=[]\n",
    "particulas = np.array([posiciones_,velocidades_,mejor_posiciones_locales_])\n",
    "mejor_pos_global_=[]\n",
    "mejor_pos_global_arr= np.array([0 for j in range(n)])\n",
    "best_local_fitness_= []\n",
    "best_local_fitness_arr=np.array(best_local_fitness_)\n",
    "#maximum float\n",
    "max = sys.float_info.max\n",
    "best_global_fitness = max\n",
    "accum=sc.accumulator(0)\n",
    "#accum=sc.accumulator(0.0)\n",
    "mejor_pos_global= sc.broadcast(mejor_pos_global_arr)\n",
    "best_local_fitness= sc.broadcast(best_local_fitness_arr)"
   ]
  },
  {
   "cell_type": "code",
   "execution_count": null,
   "id": "06a46796",
   "metadata": {},
   "outputs": [],
   "source": [
    "def InitParticles2(part,N,M,bgf,blf):\n",
    "    #global best_global_fitness\n",
    "    parts_ =[]\n",
    "    for j in range(M):\n",
    "        posicion=[rn.uniform(-100,100) for j in range(N)]\n",
    "        velocidad=[rn.uniform(-100,100) for j in range(N)]\n",
    "        part_ = posicion + velocidad + posicion\n",
    "        parts_.append(part_)\n",
    "        \n",
    "        \n",
    "\n",
    "        fit = MSE(posicion,objetivo)\n",
    "        best_local_fitness_.append(fit)\n",
    "        blf= np.array(best_local_fitness_)\n",
    "        #print(\"bgf-> \",bgf)\n",
    "        if fit < bgf:\n",
    "            bgf = fit\n",
    "            accum= fit\n",
    "            mejor_pos_global = posicion\n",
    "    parts = np.array(parts_)\n",
    "    return blf,bgf,mejor_pos_global,parts "
   ]
  },
  {
   "cell_type": "code",
   "execution_count": null,
   "id": "a96084e7",
   "metadata": {},
   "outputs": [],
   "source": [
    "def fitnessEval_x2(part,N):\n",
    "    global ind\n",
    "    global mejor_pos_global\n",
    "    global best_global_fitness\n",
    "    global accum\n",
    "    global best_local_fitness\n",
    "    filas=part[0:N]\n",
    "    fit = MSE(filas,objetivo)\n",
    "    if fit < best_local_fitness[ind]:\n",
    "        best_local_fitness[ind] = fit\n",
    "        #mpl[ind] = part[0:1,ind]\n",
    "        for k in range(N):\n",
    "            part[2*N+k]=filas[k]\n",
    "        if fit < best_global_fitness:\n",
    "            #accum += (fit-best_global_fitness)\n",
    "            best_global_fitness = fit\n",
    "            mejor_pos_global := filas\n",
    "            accum := fit\n",
    "    if ind<10:\n",
    "        ind+=1\n",
    "    #return part,mpg,blf,bgf\n",
    "    return part "
   ]
  },
  {
   "cell_type": "code",
   "execution_count": null,
   "id": "24bdf370",
   "metadata": {},
   "outputs": [],
   "source": [
    "def posEval_x2(part,mpg,N):\n",
    "#def posEval_x(part,N):\n",
    "    global ind\n",
    "    velocidades=part[N:2*N]\n",
    "    mpl=part[2*N:]\n",
    "    r_1 = rn.random()\n",
    "    r_2 = rn.random()\n",
    "    for k in range(N):\n",
    "        velocidades[k] = W*velocidades[k] + c_1*r_1*(mpl[k] - part[k]) + c_2*r_2*(mpg[k] - part[k])\n",
    "        if velocidades[k] > V_max:\n",
    "            velocidades[k] = V_max\n",
    "        elif velocidades[k] < -V_max:\n",
    "            velocidades[k] = -V_max  \n",
    "        part[k] = part[k] + velocidades[k]\n",
    "        part[N+k] = velocidades[k]\n",
    "    #return part,velocidades\n",
    "    return part"
   ]
  },
  {
   "cell_type": "code",
   "execution_count": null,
   "id": "db5b7ada",
   "metadata": {},
   "outputs": [],
   "source": [
    "best_local_fitness,best_global_fitness,mejor_pos_global,particulas=InitParticles2(particulas,n,m,best_global_fitness,best_local_fitness)"
   ]
  },
  {
   "cell_type": "code",
   "execution_count": null,
   "id": "0ab082a4",
   "metadata": {},
   "outputs": [],
   "source": [
    "rdd_master= sc.parallelize(particulas)\n",
    "start = time.time()\n",
    "\n",
    "print(\"rdd_master antes:\", rdd_master.collect())\n",
    "print(\"antes:\",mejor_pos_global)\n",
    "for i in range(100):\n",
    "    rdd_2 = rdd_master.map(lambda x:fitnessEval_x2(x,n))\n",
    "    resultado = rdd_2.map(lambda x:posEval_x2(x,mejor_pos_global,n))\n",
    "    resultado = resultado.collect()\n",
    "    \n",
    "    for j in range(m):\n",
    "        particulas[j] = resultado[j][:]\n",
    "        \n",
    "    rdd_master= sc.parallelize(particulas)\n",
    "    \n",
    "print(\"despues:\",mejor_pos_global)\n",
    "print(\"rdd_master despues:\", rdd_master.collect())\n",
    "\n",
    "end = time.time()\n",
    "tiempo = end - start\n",
    "resultado = rdd_master.collect()\n",
    "print(\"Tiempo de ejecucion(s): \", tiempo)\n",
    "print(\"mejor_pos_global-> \",mejor_pos_global)\n",
    "print(\"mejor fitness global-> \", best_global_fitness, MSE(mejor_pos_global,objetivo))\n",
    "print(\"accum:\", accum.value)"
   ]
  }
 ],
 "metadata": {
  "kernelspec": {
   "display_name": "Python 3",
   "language": "python",
   "name": "python3"
  },
  "language_info": {
   "codemirror_mode": {
    "name": "ipython",
    "version": 3
   },
   "file_extension": ".py",
   "mimetype": "text/x-python",
   "name": "python",
   "nbconvert_exporter": "python",
   "pygments_lexer": "ipython3",
   "version": "3.6.8"
  }
 },
 "nbformat": 4,
 "nbformat_minor": 5
}
