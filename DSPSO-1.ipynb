{
 "cells": [
  {
   "cell_type": "code",
   "execution_count": 1,
   "id": "c71e38ea",
   "metadata": {},
   "outputs": [],
   "source": [
    "import numpy as np\n",
    "import random as rn\n",
    "import findspark\n",
    "import sys\n",
    "findspark.init(\"/opt/spark\")"
   ]
  },
  {
   "cell_type": "code",
   "execution_count": 2,
   "id": "505a3ba2",
   "metadata": {},
   "outputs": [],
   "source": [
    "from pyspark import SparkContext\n",
    "sc = SparkContext(\"local\",\"PSO Distribuido\")"
   ]
  },
  {
   "cell_type": "code",
   "execution_count": 3,
   "id": "001470de",
   "metadata": {},
   "outputs": [],
   "source": [
    "def MSE(y, pred):\n",
    "    n = len(y)\n",
    "    if n != len(pred):\n",
    "        print(\"error: datos y predicción de distintos tamaños\")\n",
    "        return -1\n",
    "\n",
    "    resultado = 0.0\n",
    "\n",
    "    for i in range(n):\n",
    "        resultado += (y[i] - pred[i])**2\n",
    "\n",
    "    resultado = resultado / n\n",
    "\n",
    "    return resultado"
   ]
  },
  {
   "cell_type": "code",
   "execution_count": 4,
   "id": "5981594d",
   "metadata": {},
   "outputs": [],
   "source": [
    "V_max= 5.0\n",
    "W= 1.0\n",
    "c_1 = 0.8\n",
    "c_2 = 0.2\n",
    "objetivo =[50,50,50]\n",
    "ind=0\n",
    "filas_x=[0,0,0]"
   ]
  },
  {
   "cell_type": "code",
   "execution_count": 21,
   "id": "4a7116e9",
   "metadata": {},
   "outputs": [],
   "source": [
    "#Número dimensiones de los vectores\n",
    "n=3\n",
    "#Número de partículas\n",
    "m= 10\n",
    "#Número de iteraciones\n",
    "I = 1000000\n",
    "posiciones_=[]\n",
    "mejor_posiciones_locales_=[]\n",
    "velocidades_=[]\n",
    "particulas = np.array([posiciones_,velocidades_,mejor_posiciones_locales_])\n",
    "mejor_pos_global_=[]\n",
    "mejor_pos_global_arr= np.array([0 for j in range(n)])\n",
    "best_local_fitness_= []\n",
    "best_local_fitness_arr=np.array(best_local_fitness_)\n",
    "#maximum float\n",
    "max = sys.float_info.max\n",
    "best_global_fitness = max\n",
    "accum=sc.accumulator(best_global_fitness)\n",
    "mejor_pos_global= sc.broadcast(mejor_pos_global_arr)\n",
    "best_local_fitness= sc.broadcast(best_local_fitness_arr)"
   ]
  },
  {
   "cell_type": "code",
   "execution_count": 6,
   "id": "81793cca",
   "metadata": {},
   "outputs": [],
   "source": [
    "def InitParticles(part,N,M,bgf,blf):\n",
    "    #global best_global_fitness\n",
    "    for j in range(M):\n",
    "        posicion=[rn.uniform(-100,100) for j in range(N)]\n",
    "        posiciones_.append(posicion)\n",
    "        posiciones= np.array(posiciones_)\n",
    "        mejor_posiciones_locales_=posiciones_\n",
    "        mejor_posiciones_locales=np.array(mejor_posiciones_locales_)\n",
    "        velocidad=[rn.uniform(-100,100) for j in range(N)]\n",
    "        velocidades_.append(velocidad)\n",
    "        velocidades= np.array(velocidades_)\n",
    "        fit = MSE(posiciones[j],objetivo)\n",
    "        best_local_fitness_.append(fit)\n",
    "        blf= np.array(best_local_fitness_)\n",
    "        #print(\"bgf-> \",bgf)\n",
    "        if fit < bgf:\n",
    "            bgf = fit\n",
    "            accum= fit\n",
    "            mejor_pos_global = mejor_posiciones_locales[j][:]\n",
    "    part= np.array([posiciones,velocidades,mejor_posiciones_locales])\n",
    "    return blf,bgf,mejor_pos_global,part "
   ]
  },
  {
   "cell_type": "code",
   "execution_count": 7,
   "id": "81c9bc1e",
   "metadata": {},
   "outputs": [],
   "source": [
    "def fitnessEval(part,mpg,blf,bgf, ind):\n",
    "    filas=part[0:1,ind]\n",
    "    fit = MSE(filas[0],objetivo)\n",
    "    if fit< blf[ind]:\n",
    "        blf[ind] = fit\n",
    "        #mpl[ind] = part[0:1,ind]\n",
    "        part[2:,ind]=filas\n",
    "        if fit < bgf:\n",
    "            bgf = fit\n",
    "            mpg = filas[0]\n",
    "            accum= fit\n",
    "    return part,mpg,blf,bgf"
   ]
  },
  {
   "cell_type": "code",
   "execution_count": 8,
   "id": "67da3048",
   "metadata": {},
   "outputs": [],
   "source": [
    "#ind=sc.accumulator(0)\n",
    "def fitnessEval_x(part,mpg,blf,bgf):\n",
    "    global ind\n",
    "    filas=part[0:1]\n",
    "    fit = MSE(filas[0],objetivo)\n",
    "    if fit < blf[ind]:\n",
    "        blf[ind] = fit\n",
    "        #mpl[ind] = part[0:1,ind]\n",
    "      #  part[2:,ind]=filas\n",
    "        if fit < bgf:\n",
    "            bgf = fit\n",
    "            mpg = filas[0]\n",
    "            accum= fit\n",
    "    if ind<10:\n",
    "        ind+=1\n",
    "    else:\n",
    "        ind=0\n",
    "    return part,mpg,blf,bgf"
   ]
  },
  {
   "cell_type": "code",
   "execution_count": 9,
   "id": "ee28aa7b",
   "metadata": {},
   "outputs": [],
   "source": [
    "#def posEval(part,mpl,mpg,ind):\n",
    "def posEval(part,mpg,ind,N):\n",
    "    velocidades=part[1:2,ind][0]\n",
    "    mpl=part[2:,ind][0]\n",
    "    for k in range(N):\n",
    "        velocidades[k] = W*velocidades[k] + c_1*r_1*(mpl[k] - part[0:1,ind][0][k]) + c_2*r_2*(mpg[k] - part[0:1,ind][0][k])\n",
    "        if velocidades[k] > V_max:\n",
    "            velocidades[k] = V_max\n",
    "        elif velocidades[k] < -V_max:\n",
    "            velocidades[k] = -V_max  \n",
    "        part[0:1,ind][0][k] = part[0:1,ind][0][k] + velocidades[k]\n",
    "    #return part,velocidades\n",
    "    return part"
   ]
  },
  {
   "cell_type": "code",
   "execution_count": 10,
   "id": "fe782624",
   "metadata": {},
   "outputs": [],
   "source": [
    "#def posEval(part,mpl,mpg,ind):\n",
    "def posEval_x(part,mpg,N):\n",
    "    global ind\n",
    "    velocidades=part[1:2][0]\n",
    "    mpl=part[2:][0]\n",
    "    r_1 = rn.random()\n",
    "    r_2 = rn.random()\n",
    "    for k in range(N):\n",
    "        velocidades[k] = W*velocidades[k] + c_1*r_1*(mpl[k] - part[0:1][0][k]) + c_2*r_2*(mpg[k] - part[0:1][0][k])\n",
    "        if velocidades[k] > V_max:\n",
    "            velocidades[k] = V_max\n",
    "        elif velocidades[k] < -V_max:\n",
    "            velocidades[k] = -V_max  \n",
    "        part[0:1][0][k] = part[0:1][0][k] + velocidades[k]\n",
    "    #return part,velocidades\n",
    "    return part"
   ]
  },
  {
   "cell_type": "code",
   "execution_count": 22,
   "id": "ec6ad242",
   "metadata": {},
   "outputs": [],
   "source": [
    "best_local_fitness,best_global_fitness,mejor_pos_global,particulas=InitParticles(particulas,n,m,best_global_fitness,best_local_fitness)\n",
    "#print(\"particulas[0:1]-> \",particulas[0:1][0])\n",
    "#print(\"mejor velocidades-> \",particulas[1:2][0])\n",
    "#print(\"mejor posiciones locales-> \",particulas[2:][0])\n",
    "#print(\"mejor_pos_global-> \",mejor_pos_global)\n",
    "#print(\"best_global_fitness\",best_global_fitness)\n",
    "#print(\"best_local_fitness\",best_local_fitness)"
   ]
  },
  {
   "cell_type": "code",
   "execution_count": 23,
   "id": "b8afe83f",
   "metadata": {},
   "outputs": [
    {
     "name": "stdout",
     "output_type": "stream",
     "text": [
      "[array([[ -64.34680639, -100.42500179,  -42.21046294],\n",
      "       [   5.        ,   -5.        ,   -5.        ],\n",
      "       [  93.93535393,  -88.99629085,  -43.80559393],\n",
      "       [  69.53610996,  -50.76444349,  -74.58198781],\n",
      "       [ -88.05543561,  -49.965904  ,   38.65387257],\n",
      "       [ -38.75001531,   32.19831732,  -40.72532277],\n",
      "       [ -65.19092425,  -58.46169141,   85.16901001],\n",
      "       [ -17.0189836 ,  -45.30343461,  -90.47298053],\n",
      "       [ -65.52472582,   13.23670172,   99.40106792],\n",
      "       [  57.76721411,   29.86386748,  -70.27425077]]), array([[ -4.71224705,  10.53213237,  61.77581238],\n",
      "       [  5.        ,  -5.        ,  -5.        ],\n",
      "       [-96.12189039, -13.30681796,  -4.88562223],\n",
      "       [ 77.70294404,  11.37616203,  98.93994071],\n",
      "       [-30.89517655, -27.94094467,   9.2704647 ],\n",
      "       [-54.91450986, -67.96836136, -89.54454112],\n",
      "       [ 95.41184899, -14.77759563,  44.02256967],\n",
      "       [ 76.64479782, -78.47585083, -13.69107069],\n",
      "       [-77.3694284 ,   3.6775297 ,  82.08696635],\n",
      "       [-91.47644529,  -2.90446348, -67.6311384 ]]), array([[ -64.34680639, -100.42500179,  -42.21046294],\n",
      "       [   5.        ,   -5.        ,   -5.        ],\n",
      "       [  93.93535393,  -88.99629085,  -43.80559393],\n",
      "       [  69.53610996,  -50.76444349,  -74.58198781],\n",
      "       [ -88.05543561,  -49.965904  ,   38.65387257],\n",
      "       [ -38.75001531,   32.19831732,  -40.72532277],\n",
      "       [ -65.19092425,  -58.46169141,   85.16901001],\n",
      "       [ -17.0189836 ,  -45.30343461,  -90.47298053],\n",
      "       [ -65.52472582,   13.23670172,   99.40106792],\n",
      "       [  57.76721411,   29.86386748,  -70.27425077]])]\n",
      "particulas->  [ -64.34680639 -100.42500179  -42.21046294]\n",
      "mejor_pos_global->  [ 57.76721411  29.86386748 -70.27425077]\n"
     ]
    }
   ],
   "source": [
    "rdd_master= sc.parallelize(particulas)\n",
    "#print(rdd_master.collect())\n",
    "for i in range (I):\n",
    "    resultado = rdd_master.map(lambda x:fitnessEval_x(x,mejor_pos_global,best_local_fitness,best_global_fitness))\n",
    "    #print(rdd_master.collect())\n",
    "    resultado_2 = resultado.map(lambda x:posEval_x(x[0],mejor_pos_global,n))\n",
    "    resultado = resultado_2\n",
    "#resultado = resultado_2.map(lambda x:fitnessEval_x(x,mejor_pos_global,best_local_fitness,best_global_fitness)).collect()\n",
    "resultado = resultado.collect()\n",
    "print(resultado)\n",
    "particulas = resultado[0]\n",
    "print(\"particulas-> \",particulas[0])\n",
    "print(\"mejor_pos_global-> \",mejor_pos_global)"
   ]
  }
 ],
 "metadata": {
  "kernelspec": {
   "display_name": "Python 3",
   "language": "python",
   "name": "python3"
  },
  "language_info": {
   "codemirror_mode": {
    "name": "ipython",
    "version": 3
   },
   "file_extension": ".py",
   "mimetype": "text/x-python",
   "name": "python",
   "nbconvert_exporter": "python",
   "pygments_lexer": "ipython3",
   "version": "3.6.8"
  }
 },
 "nbformat": 4,
 "nbformat_minor": 5
}
