{
 "cells": [
  {
   "cell_type": "code",
   "execution_count": 1,
   "id": "df9d45df",
   "metadata": {},
   "outputs": [],
   "source": [
    "import numpy as np \n",
    "import random as rn\n",
    "import time"
   ]
  },
  {
   "cell_type": "code",
   "execution_count": 2,
   "id": "27be4a55",
   "metadata": {},
   "outputs": [],
   "source": [
    "def MSE(y, pred):\n",
    "    n = len(y)\n",
    "    if n != len(pred):\n",
    "        print(\"error: datos y predicción de distintos tamaños\")\n",
    "        return -1\n",
    "\n",
    "    resultado = 0.0\n",
    "\n",
    "    for i in range(n):\n",
    "        resultado += (y[i] - pred[i])**2\n",
    "\n",
    "    resultado = resultado / n\n",
    "\n",
    "    return resultado "
   ]
  },
  {
   "cell_type": "code",
   "execution_count": 3,
   "id": "fe2f729f",
   "metadata": {},
   "outputs": [],
   "source": [
    "V_max = 10\n",
    "W = 1\n",
    "c_1 = 0.3\n",
    "c_2 = 0.7"
   ]
  },
  {
   "cell_type": "code",
   "execution_count": 4,
   "id": "b11aa179",
   "metadata": {},
   "outputs": [],
   "source": [
    "objetivo = [50, 50, 50]\n",
    "n = 10000000  # número de  iteraciones\n",
    "m = 10  # número de partículas\n",
    "posiciones = []\n",
    "velocidades = []\n",
    "mejores_pos_locales = []\n",
    "best_local_fitness =[]"
   ]
  },
  {
   "cell_type": "code",
   "execution_count": 5,
   "id": "c0cbb475",
   "metadata": {},
   "outputs": [],
   "source": [
    "for i in range(m):\n",
    "    aux = [rn.uniform(-100,100), rn.uniform(-100,100), rn.uniform(-100,100)]\n",
    "    posiciones.append(aux)\n",
    "    velocidades.append([rn.uniform(-100,100), rn.uniform(-100,100), rn.uniform(-100,100)])\n",
    "    mejores_pos_locales.append(aux)\n",
    "mejor_pos_global = posiciones[0]"
   ]
  },
  {
   "cell_type": "code",
   "execution_count": 6,
   "id": "fab12238",
   "metadata": {},
   "outputs": [
    {
     "name": "stdout",
     "output_type": "stream",
     "text": [
      "Tiempo de ejecucion(s):  305.13825488090515\n"
     ]
    }
   ],
   "source": [
    "start = time.time()\n",
    "for i in range(n):\n",
    "    for j in range(m):\n",
    "        fit = MSE(posiciones[j], objetivo)\n",
    "        if i == 0:\n",
    "            best_local_fitness.append(fit)\n",
    "            if j == 0:\n",
    "                best_global_fitness = fit\n",
    "            elif fit < best_global_fitness:\n",
    "                best_global_fitness = fit\n",
    "                mejor_pos_global = posiciones[j][:]\n",
    "        else:\n",
    "            if fit < best_local_fitness[j]:\n",
    "                best_local_fitness[j] = fit\n",
    "                mejores_pos_locales[j] = posiciones[j][:]\n",
    "                if fit < best_global_fitness:\n",
    "                    best_global_fitness = fit\n",
    "                    mejor_pos_global = posiciones[j][:]\n",
    "    \n",
    "    r_1 = rn.random()\n",
    "    r_2 = rn.random()\n",
    "    for j in range(m):\n",
    "        for k in range(3):\n",
    "            velocidades[j][k] = W*velocidades[j][k] + c_1*r_1*(mejores_pos_locales[j][k] - posiciones[j][k]) + c_2*r_2*(mejor_pos_global[k] - posiciones[j][k])\n",
    "            if velocidades[j][k] > V_max:\n",
    "                velocidades[j][k] = V_max\n",
    "            elif velocidades[j][k] < -V_max:\n",
    "                velocidades[j][k] = -V_max\n",
    "                \n",
    "            posiciones[j][k] = posiciones[j][k] + velocidades[j][k]\n",
    "end = time.time()\n",
    "tiempo = end - start\n",
    "print(\"Tiempo de ejecucion(s): \", tiempo)"
   ]
  },
  {
   "cell_type": "code",
   "execution_count": 7,
   "id": "d294e781",
   "metadata": {},
   "outputs": [
    {
     "name": "stdout",
     "output_type": "stream",
     "text": [
      "mejor posición encontrada [50.000005065150205, 50.000003483571646, 50.0000008032937]\n",
      "mejor MSE 1.2812099595183923e-11\n"
     ]
    }
   ],
   "source": [
    "print(\"mejor posición encontrada\", mejor_pos_global)\n",
    "print(\"mejor MSE\", best_global_fitness)"
   ]
  },
  {
   "cell_type": "code",
   "execution_count": null,
   "id": "687f057d",
   "metadata": {},
   "outputs": [],
   "source": []
  }
 ],
 "metadata": {
  "kernelspec": {
   "display_name": "Python 3 (ipykernel)",
   "language": "python",
   "name": "python3"
  },
  "language_info": {
   "codemirror_mode": {
    "name": "ipython",
    "version": 3
   },
   "file_extension": ".py",
   "mimetype": "text/x-python",
   "name": "python",
   "nbconvert_exporter": "python",
   "pygments_lexer": "ipython3",
   "version": "3.9.13"
  }
 },
 "nbformat": 4,
 "nbformat_minor": 5
}
