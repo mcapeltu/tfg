{
 "cells": [
  {
   "cell_type": "code",
   "execution_count": 1,
   "id": "facb8cc5",
   "metadata": {},
   "outputs": [],
   "source": [
    "import numpy as np\n",
    "import random as rn\n",
    "import findspark\n",
    "import sys\n",
    "findspark.init(\"C:\\\\Users\\\\Software\\\\spark-3.3.1-bin-hadoop3\\\\bin\\\\..\")\n",
    "#findspark.init(\"D:\\\\Users\\\\software\\\\spark-3.2.1-bin-hadoop3.2\\\\bin\\\\..\")"
   ]
  },
  {
   "cell_type": "code",
   "execution_count": 2,
   "id": "21013230",
   "metadata": {},
   "outputs": [],
   "source": [
    "from pyspark import SparkContext\n",
    "sc = SparkContext(\"local\",\"PSO Distribuido\")"
   ]
  },
  {
   "cell_type": "code",
   "execution_count": 3,
   "id": "886b41ed",
   "metadata": {},
   "outputs": [],
   "source": [
    "def MSE(y, pred):\n",
    "    n = len(y)\n",
    "    if n != len(pred):\n",
    "        print(\"error: datos y predicción de distintos tamaños\")\n",
    "        return -1\n",
    "\n",
    "    resultado = 0.0\n",
    "\n",
    "    for i in range(n):\n",
    "        resultado += (y[i] - pred[i])**2\n",
    "\n",
    "    resultado = resultado / n\n",
    "\n",
    "    return resultado"
   ]
  },
  {
   "cell_type": "code",
   "execution_count": 4,
   "id": "e1053814",
   "metadata": {},
   "outputs": [],
   "source": [
    "V_max= 10\n",
    "W= 1\n",
    "c_1 = 0.3\n",
    "c_2 = 0.7\n",
    "objetivo =[50,50,50]"
   ]
  },
  {
   "cell_type": "code",
   "execution_count": 5,
   "id": "aae8b850",
   "metadata": {},
   "outputs": [],
   "source": [
    "#Número dimensiones de los vectores\n",
    "n=3\n",
    "#Número de partículas\n",
    "m= 10\n",
    "#Número de iteraciones\n",
    "I = 5"
   ]
  },
  {
   "cell_type": "code",
   "execution_count": 6,
   "id": "79c976d2",
   "metadata": {},
   "outputs": [],
   "source": [
    "\n",
    "posiciones=[]\n",
    "velocidades=[]\n",
    "mejor_posiciones_locales=[]\n",
    "mejor_pos_global= [0 for j in range(n)]\n",
    "particulas = np.array([posiciones,velocidades,mejor_posiciones_locales])\n",
    "best_local_fitness = []\n",
    "#maximum float\n",
    "max = sys.float_info.max\n",
    "best_global_fitness = max"
   ]
  },
  {
   "cell_type": "code",
   "execution_count": 7,
   "id": "ebfeca3b",
   "metadata": {},
   "outputs": [],
   "source": [
    "def InitParticles(part,N,M,bgf):\n",
    "    for i in range(M):\n",
    "        aux=[rn.uniform(-100,100) for j in range(N)]\n",
    "        posiciones.append(aux)\n",
    "        mejor_posiciones_locales.append(aux)\n",
    "        aux=[rn.uniform(-100,100) for j in range(N)]\n",
    "        velocidades.append(aux)\n",
    "        fit = MSE(posiciones[i][:],objetivo)\n",
    "        best_local_fitness.append(fit)\n",
    "        if fit < bgf:\n",
    "            bgf = fit\n",
    "            mejor_pos_global = mejor_posiciones_locales[i][:]\n",
    "    part = np.array([posiciones, velocidades, mejor_posiciones_locales],dtype=object)\n",
    "    return bgf,mejor_pos_global,part "
   ]
  },
  {
   "cell_type": "code",
   "execution_count": 8,
   "id": "72de37d6",
   "metadata": {},
   "outputs": [],
   "source": [
    "def fitnessEval(part,mpl,mpg,blf,bgf, ind):\n",
    "    filas=part[0:1,ind]\n",
    "    fit = MSE(filas[0],objetivo)\n",
    "    if fit< blf[ind]:\n",
    "        blf[ind] = fit\n",
    "        mpl[ind] = part[0:1,ind]\n",
    "        if fit < bgf:\n",
    "            bgf = fit\n",
    "            mpg = part[0:1,ind]\n",
    "    return part,mpl,mpg,blf,bgf"
   ]
  },
  {
   "cell_type": "code",
   "execution_count": 9,
   "id": "affd218f",
   "metadata": {},
   "outputs": [],
   "source": [
    "def posEval(part,mpl,mpg,ind):\n",
    "    velocidades=particulas[1:2,ind][0]\n",
    "    for k in range(n):\n",
    "        velocidades[k] = W*velocidades[k] + c_1*r_1*(mejor_posiciones_locales[j][k] - particulas[0:1,j][0][k]) + c_2*r_2*(mejor_pos_global[k] - particulas[0:1,j][0][k])\n",
    "        if velocidades[k] > V_max:\n",
    "            velocidades[k] = V_max\n",
    "        elif velocidades[k] < -V_max:\n",
    "            velocidades[k] = -V_max  \n",
    "        part[0:1,j][0][k] = part[0:1,j][0][k] + velocidades[k]\n",
    "    return part,velocidades"
   ]
  },
  {
   "cell_type": "code",
   "execution_count": 10,
   "id": "f9cb50ec",
   "metadata": {},
   "outputs": [
    {
     "name": "stdout",
     "output_type": "stream",
     "text": [
      "Nuevas Posiciones-> [-75.46606314216979 54.5761653752711 94.88716391601804]\n"
     ]
    }
   ],
   "source": [
    "best_global_fitness,mejor_pos_global,particulas = InitParticles(particulas,n,m,best_global_fitness)\n",
    "for i in range(1):\n",
    "    for j in range(m):\n",
    "        particulas,mejor_posiciones_locales,mejor_pos_global,best_local_fitness,best_global_fitness=fitnessEval(particulas,mejor_posiciones_locales,mejor_pos_global,best_local_fitness,best_global_fitness,j)\n",
    "    r_1 = rn.random()\n",
    "    r_2 = rn.random()\n",
    "    for j in range(m):\n",
    "        particulas,velocidades = posEval(particulas,mejor_posiciones_locales,mejor_pos_global,j)\n",
    "    print(\"Nuevas Posiciones->\",particulas[0:1,j][0])"
   ]
  },
  {
   "cell_type": "code",
   "execution_count": 11,
   "id": "2aec0507",
   "metadata": {
    "scrolled": false
   },
   "outputs": [],
   "source": [
    "#rdd_master= sc.parallelize(particulas)"
   ]
  },
  {
   "cell_type": "code",
   "execution_count": null,
   "id": "70cb79c2",
   "metadata": {},
   "outputs": [],
   "source": []
  }
 ],
 "metadata": {
  "kernelspec": {
   "display_name": "Python 3 (ipykernel)",
   "language": "python",
   "name": "python3"
  },
  "language_info": {
   "codemirror_mode": {
    "name": "ipython",
    "version": 3
   },
   "file_extension": ".py",
   "mimetype": "text/x-python",
   "name": "python",
   "nbconvert_exporter": "python",
   "pygments_lexer": "ipython3",
   "version": "3.9.13"
  }
 },
 "nbformat": 4,
 "nbformat_minor": 5
}
